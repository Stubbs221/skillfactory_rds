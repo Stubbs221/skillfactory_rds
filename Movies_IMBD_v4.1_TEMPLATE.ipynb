{
 "cells": [
  {
   "cell_type": "code",
   "execution_count": 392,
   "metadata": {
    "_cell_guid": "b1076dfc-b9ad-4769-8c92-a6c4dae69d19",
    "_uuid": "8f2839f25d086af736a60e9eeb907d3b93b6e0e5",
    "colab": {},
    "colab_type": "code",
    "id": "U2D2gTdJVp90"
   },
   "outputs": [],
   "source": [
    "import numpy as np\n",
    "import pandas as pd\n",
    "import seaborn as sns\n",
    "import matplotlib.pyplot as plt\n",
    "from collections import Counter"
   ]
  },
  {
   "cell_type": "code",
   "execution_count": 409,
   "metadata": {
    "_cell_guid": "79c7e3d0-c299-4dcb-8224-4455121ee9b0",
    "_uuid": "d629ff2d2480ee46fbb7e2d37f6b5fab8052498a",
    "colab": {},
    "colab_type": "code",
    "id": "oyGfxL3eVp9-"
   },
   "outputs": [
    {
     "data": {
      "text/html": [
       "<div>\n",
       "<style scoped>\n",
       "    .dataframe tbody tr th:only-of-type {\n",
       "        vertical-align: middle;\n",
       "    }\n",
       "\n",
       "    .dataframe tbody tr th {\n",
       "        vertical-align: top;\n",
       "    }\n",
       "\n",
       "    .dataframe thead th {\n",
       "        text-align: right;\n",
       "    }\n",
       "</style>\n",
       "<table border=\"1\" class=\"dataframe\">\n",
       "  <thead>\n",
       "    <tr style=\"text-align: right;\">\n",
       "      <th></th>\n",
       "      <th>imdb_id</th>\n",
       "      <th>budget</th>\n",
       "      <th>revenue</th>\n",
       "      <th>original_title</th>\n",
       "      <th>cast</th>\n",
       "      <th>director</th>\n",
       "      <th>tagline</th>\n",
       "      <th>overview</th>\n",
       "      <th>runtime</th>\n",
       "      <th>genres</th>\n",
       "      <th>production_companies</th>\n",
       "      <th>release_date</th>\n",
       "      <th>vote_average</th>\n",
       "      <th>release_year</th>\n",
       "    </tr>\n",
       "  </thead>\n",
       "  <tbody>\n",
       "    <tr>\n",
       "      <th>1228</th>\n",
       "      <td>tt1535109</td>\n",
       "      <td>55000000</td>\n",
       "      <td>95000000</td>\n",
       "      <td>Captain Phillips</td>\n",
       "      <td>Tom Hanks|Catherine Keener|Max Martini|Chris M...</td>\n",
       "      <td>Paul Greengrass</td>\n",
       "      <td>Out here survival is everything.</td>\n",
       "      <td>The true story of Captain Richard Phillips and...</td>\n",
       "      <td>134</td>\n",
       "      <td>Action|Drama|Thriller</td>\n",
       "      <td>Columbia Pictures</td>\n",
       "      <td>2013-10-10</td>\n",
       "      <td>7.7</td>\n",
       "      <td>2013</td>\n",
       "    </tr>\n",
       "    <tr>\n",
       "      <th>510</th>\n",
       "      <td>tt0247638</td>\n",
       "      <td>37000000</td>\n",
       "      <td>165335153</td>\n",
       "      <td>The Princess Diaries</td>\n",
       "      <td>Anne Hathaway|Julie Andrews|Heather Matarazzo|...</td>\n",
       "      <td>Garry Marshall</td>\n",
       "      <td>She rocks. She rules. She reigns.</td>\n",
       "      <td>A socially awkward but very bright 15-year-old...</td>\n",
       "      <td>115</td>\n",
       "      <td>Comedy|Family|Romance</td>\n",
       "      <td>Walt Disney Pictures|BrownHouse Productions|Bo...</td>\n",
       "      <td>2001-08-03</td>\n",
       "      <td>6.3</td>\n",
       "      <td>2001</td>\n",
       "    </tr>\n",
       "    <tr>\n",
       "      <th>1355</th>\n",
       "      <td>tt0368709</td>\n",
       "      <td>57000000</td>\n",
       "      <td>52034889</td>\n",
       "      <td>Elizabethtown</td>\n",
       "      <td>Orlando Bloom|Kirsten Dunst|Susan Sarandon|Ale...</td>\n",
       "      <td>Cameron Crowe</td>\n",
       "      <td>It's a heck of a place to find yourself</td>\n",
       "      <td>Drew Baylor is fired after causing his shoe co...</td>\n",
       "      <td>123</td>\n",
       "      <td>Comedy|Drama|Romance</td>\n",
       "      <td>Paramount Pictures|Cruise/Wagner Productions|V...</td>\n",
       "      <td>2005-09-03</td>\n",
       "      <td>6.0</td>\n",
       "      <td>2005</td>\n",
       "    </tr>\n",
       "    <tr>\n",
       "      <th>1607</th>\n",
       "      <td>tt0376541</td>\n",
       "      <td>27000000</td>\n",
       "      <td>115505027</td>\n",
       "      <td>Closer</td>\n",
       "      <td>Natalie Portman|Jude Law|Julia Roberts|Clive O...</td>\n",
       "      <td>Mike Nichols</td>\n",
       "      <td>If you believe in love at first sight, you nev...</td>\n",
       "      <td>A witty, romantic, and very dangerous love sto...</td>\n",
       "      <td>104</td>\n",
       "      <td>Drama|Romance</td>\n",
       "      <td>Columbia Pictures</td>\n",
       "      <td>2004-12-01</td>\n",
       "      <td>6.6</td>\n",
       "      <td>2004</td>\n",
       "    </tr>\n",
       "    <tr>\n",
       "      <th>1431</th>\n",
       "      <td>tt0355702</td>\n",
       "      <td>25000000</td>\n",
       "      <td>13411957</td>\n",
       "      <td>Lords of Dogtown</td>\n",
       "      <td>Emile Hirsch|Victor Rasuk|Rebecca De Mornay|Jo...</td>\n",
       "      <td>Catherine Hardwicke</td>\n",
       "      <td>They never thought they'd be famous, but they ...</td>\n",
       "      <td>The film follows the surf and skateboarding tr...</td>\n",
       "      <td>107</td>\n",
       "      <td>Drama</td>\n",
       "      <td>Columbia Pictures|TriStar Pictures</td>\n",
       "      <td>2005-06-03</td>\n",
       "      <td>6.9</td>\n",
       "      <td>2005</td>\n",
       "    </tr>\n",
       "  </tbody>\n",
       "</table>\n",
       "</div>"
      ],
      "text/plain": [
       "        imdb_id    budget    revenue        original_title  \\\n",
       "1228  tt1535109  55000000   95000000      Captain Phillips   \n",
       "510   tt0247638  37000000  165335153  The Princess Diaries   \n",
       "1355  tt0368709  57000000   52034889         Elizabethtown   \n",
       "1607  tt0376541  27000000  115505027                Closer   \n",
       "1431  tt0355702  25000000   13411957      Lords of Dogtown   \n",
       "\n",
       "                                                   cast             director  \\\n",
       "1228  Tom Hanks|Catherine Keener|Max Martini|Chris M...      Paul Greengrass   \n",
       "510   Anne Hathaway|Julie Andrews|Heather Matarazzo|...       Garry Marshall   \n",
       "1355  Orlando Bloom|Kirsten Dunst|Susan Sarandon|Ale...        Cameron Crowe   \n",
       "1607  Natalie Portman|Jude Law|Julia Roberts|Clive O...         Mike Nichols   \n",
       "1431  Emile Hirsch|Victor Rasuk|Rebecca De Mornay|Jo...  Catherine Hardwicke   \n",
       "\n",
       "                                                tagline  \\\n",
       "1228                   Out here survival is everything.   \n",
       "510                   She rocks. She rules. She reigns.   \n",
       "1355            It's a heck of a place to find yourself   \n",
       "1607  If you believe in love at first sight, you nev...   \n",
       "1431  They never thought they'd be famous, but they ...   \n",
       "\n",
       "                                               overview  runtime  \\\n",
       "1228  The true story of Captain Richard Phillips and...      134   \n",
       "510   A socially awkward but very bright 15-year-old...      115   \n",
       "1355  Drew Baylor is fired after causing his shoe co...      123   \n",
       "1607  A witty, romantic, and very dangerous love sto...      104   \n",
       "1431  The film follows the surf and skateboarding tr...      107   \n",
       "\n",
       "                     genres  \\\n",
       "1228  Action|Drama|Thriller   \n",
       "510   Comedy|Family|Romance   \n",
       "1355   Comedy|Drama|Romance   \n",
       "1607          Drama|Romance   \n",
       "1431                  Drama   \n",
       "\n",
       "                                   production_companies release_date  \\\n",
       "1228                                  Columbia Pictures   2013-10-10   \n",
       "510   Walt Disney Pictures|BrownHouse Productions|Bo...   2001-08-03   \n",
       "1355  Paramount Pictures|Cruise/Wagner Productions|V...   2005-09-03   \n",
       "1607                                  Columbia Pictures   2004-12-01   \n",
       "1431                 Columbia Pictures|TriStar Pictures   2005-06-03   \n",
       "\n",
       "      vote_average  release_year  \n",
       "1228           7.7          2013  \n",
       "510            6.3          2001  \n",
       "1355           6.0          2005  \n",
       "1607           6.6          2004  \n",
       "1431           6.9          2005  "
      ]
     },
     "execution_count": 409,
     "metadata": {},
     "output_type": "execute_result"
    }
   ],
   "source": [
    "data = pd.read_csv('movie_bd_v5.csv', parse_dates= ['release_date'])\n",
    "data.sample(5)"
   ]
  },
  {
   "cell_type": "code",
   "execution_count": 4,
   "metadata": {
    "colab": {},
    "colab_type": "code",
    "id": "CoYUnagMVp-C"
   },
   "outputs": [
    {
     "data": {
      "text/html": [
       "<div>\n",
       "<style scoped>\n",
       "    .dataframe tbody tr th:only-of-type {\n",
       "        vertical-align: middle;\n",
       "    }\n",
       "\n",
       "    .dataframe tbody tr th {\n",
       "        vertical-align: top;\n",
       "    }\n",
       "\n",
       "    .dataframe thead th {\n",
       "        text-align: right;\n",
       "    }\n",
       "</style>\n",
       "<table border=\"1\" class=\"dataframe\">\n",
       "  <thead>\n",
       "    <tr style=\"text-align: right;\">\n",
       "      <th></th>\n",
       "      <th>budget</th>\n",
       "      <th>revenue</th>\n",
       "      <th>runtime</th>\n",
       "      <th>vote_average</th>\n",
       "      <th>release_year</th>\n",
       "    </tr>\n",
       "  </thead>\n",
       "  <tbody>\n",
       "    <tr>\n",
       "      <th>count</th>\n",
       "      <td>1.889000e+03</td>\n",
       "      <td>1.889000e+03</td>\n",
       "      <td>1889.000000</td>\n",
       "      <td>1889.000000</td>\n",
       "      <td>1889.000000</td>\n",
       "    </tr>\n",
       "    <tr>\n",
       "      <th>mean</th>\n",
       "      <td>5.431083e+07</td>\n",
       "      <td>1.553653e+08</td>\n",
       "      <td>109.658549</td>\n",
       "      <td>6.140762</td>\n",
       "      <td>2007.860773</td>\n",
       "    </tr>\n",
       "    <tr>\n",
       "      <th>std</th>\n",
       "      <td>4.858721e+07</td>\n",
       "      <td>2.146698e+08</td>\n",
       "      <td>18.017041</td>\n",
       "      <td>0.764763</td>\n",
       "      <td>4.468841</td>\n",
       "    </tr>\n",
       "    <tr>\n",
       "      <th>min</th>\n",
       "      <td>5.000000e+06</td>\n",
       "      <td>2.033165e+06</td>\n",
       "      <td>63.000000</td>\n",
       "      <td>3.300000</td>\n",
       "      <td>2000.000000</td>\n",
       "    </tr>\n",
       "    <tr>\n",
       "      <th>25%</th>\n",
       "      <td>2.000000e+07</td>\n",
       "      <td>3.456058e+07</td>\n",
       "      <td>97.000000</td>\n",
       "      <td>5.600000</td>\n",
       "      <td>2004.000000</td>\n",
       "    </tr>\n",
       "    <tr>\n",
       "      <th>50%</th>\n",
       "      <td>3.800000e+07</td>\n",
       "      <td>8.361541e+07</td>\n",
       "      <td>107.000000</td>\n",
       "      <td>6.100000</td>\n",
       "      <td>2008.000000</td>\n",
       "    </tr>\n",
       "    <tr>\n",
       "      <th>75%</th>\n",
       "      <td>7.200000e+07</td>\n",
       "      <td>1.782626e+08</td>\n",
       "      <td>120.000000</td>\n",
       "      <td>6.600000</td>\n",
       "      <td>2012.000000</td>\n",
       "    </tr>\n",
       "    <tr>\n",
       "      <th>max</th>\n",
       "      <td>3.800000e+08</td>\n",
       "      <td>2.781506e+09</td>\n",
       "      <td>214.000000</td>\n",
       "      <td>8.100000</td>\n",
       "      <td>2015.000000</td>\n",
       "    </tr>\n",
       "  </tbody>\n",
       "</table>\n",
       "</div>"
      ],
      "text/plain": [
       "             budget       revenue      runtime  vote_average  release_year\n",
       "count  1.889000e+03  1.889000e+03  1889.000000   1889.000000   1889.000000\n",
       "mean   5.431083e+07  1.553653e+08   109.658549      6.140762   2007.860773\n",
       "std    4.858721e+07  2.146698e+08    18.017041      0.764763      4.468841\n",
       "min    5.000000e+06  2.033165e+06    63.000000      3.300000   2000.000000\n",
       "25%    2.000000e+07  3.456058e+07    97.000000      5.600000   2004.000000\n",
       "50%    3.800000e+07  8.361541e+07   107.000000      6.100000   2008.000000\n",
       "75%    7.200000e+07  1.782626e+08   120.000000      6.600000   2012.000000\n",
       "max    3.800000e+08  2.781506e+09   214.000000      8.100000   2015.000000"
      ]
     },
     "execution_count": 4,
     "metadata": {},
     "output_type": "execute_result"
    }
   ],
   "source": [
    "data.describe()"
   ]
  },
  {
   "cell_type": "markdown",
   "metadata": {
    "colab_type": "text",
    "id": "DTIt7ezGVp-G"
   },
   "source": [
    "# Предобработка"
   ]
  },
  {
   "cell_type": "code",
   "execution_count": 417,
   "metadata": {
    "colab": {},
    "colab_type": "code",
    "id": "jNb40DwKVp-H"
   },
   "outputs": [],
   "source": [
    "answers = {} # создадим словарь для ответов\n",
    "\n",
    "# тут другие ваши предобработки колонок например:\n",
    "data['profit'] = data['revenue'] - data['budget']     # создание столбца прибыли\n",
    "\n",
    "\n",
    "def stringtolist(string):                             # преобразование строки в список\n",
    "    result = string.str.split('|')\n",
    "    return result\n",
    "#the time given in the dataset is in string format.\n",
    "#So we need to change this in datetime format\n",
    "# ..."
   ]
  },
  {
   "cell_type": "markdown",
   "metadata": {
    "colab_type": "text",
    "id": "YxZaH-nPVp-L"
   },
   "source": [
    "# 1. У какого фильма из списка самый большой бюджет?"
   ]
  },
  {
   "cell_type": "markdown",
   "metadata": {
    "colab_type": "text",
    "id": "Nd-G5gX6Vp-M"
   },
   "source": [
    "Использовать варианты ответов в коде решения запрещено.    \n",
    "Вы думаете и в жизни у вас будут варианты ответов?)"
   ]
  },
  {
   "cell_type": "code",
   "execution_count": 418,
   "metadata": {
    "colab": {},
    "colab_type": "code",
    "id": "uVnXAY5RVp-O"
   },
   "outputs": [],
   "source": [
    "# в словарь вставляем номер вопроса и ваш ответ на него\n",
    "# Пример: \n",
    "answers['1'] = '2. Spider-Man 3 (tt0413300)'\n",
    "# запишите свой вариант ответа\n",
    "answers['1'] = '5. Pirates of the Caribbean: On Stranger Tides (tt1298650)'\n",
    "# если ответили верно, можете добавить комментарий со значком \"+\""
   ]
  },
  {
   "cell_type": "code",
   "execution_count": 29,
   "metadata": {
    "colab": {},
    "colab_type": "code",
    "id": "dZwb3m28Vp-S"
   },
   "outputs": [
    {
     "data": {
      "text/plain": [
       "723    tt1298650\n",
       "Name: imdb_id, dtype: object"
      ]
     },
     "execution_count": 29,
     "metadata": {},
     "output_type": "execute_result"
    }
   ],
   "source": [
    "# тут пишем ваш код для решения данного вопроса:\n",
    "data[data.budget == data.budget.max()].original_title\n",
    "\n"
   ]
  },
  {
   "cell_type": "markdown",
   "metadata": {
    "colab_type": "text",
    "id": "K7L3nbRXVp-X"
   },
   "source": [
    "ВАРИАНТ 2"
   ]
  },
  {
   "cell_type": "code",
   "execution_count": 396,
   "metadata": {
    "colab": {},
    "colab_type": "code",
    "id": "OGaoQI7rVp-X"
   },
   "outputs": [],
   "source": [
    "# можно добавлять разные варианты решения\n"
   ]
  },
  {
   "cell_type": "markdown",
   "metadata": {
    "colab_type": "text",
    "id": "FNRbbI3vVp-c"
   },
   "source": [
    "# 2. Какой из фильмов самый длительный (в минутах)?"
   ]
  },
  {
   "cell_type": "code",
   "execution_count": 419,
   "metadata": {
    "colab": {},
    "colab_type": "code",
    "id": "vHAoEXNTVp-d"
   },
   "outputs": [],
   "source": [
    "# думаю логику работы с этим словарем вы уже поняли, \n",
    "# по этому не буду больше его дублировать\n",
    "answers['2'] = '2. Gods and Generals (tt0279111)'"
   ]
  },
  {
   "cell_type": "code",
   "execution_count": 397,
   "metadata": {
    "colab": {},
    "colab_type": "code",
    "id": "ot-VX2XrVp-g"
   },
   "outputs": [
    {
     "data": {
      "text/plain": [
       "1157    Gods and Generals\n",
       "Name: original_title, dtype: object"
      ]
     },
     "execution_count": 397,
     "metadata": {},
     "output_type": "execute_result"
    }
   ],
   "source": [
    "data[data.runtime == data.runtime.max()].original_title\n"
   ]
  },
  {
   "cell_type": "markdown",
   "metadata": {
    "colab_type": "text",
    "id": "bapLlpW8Vp-k"
   },
   "source": [
    "# 3. Какой из фильмов самый короткий (в минутах)?\n",
    "\n",
    "\n",
    "\n"
   ]
  },
  {
   "cell_type": "code",
   "execution_count": 420,
   "metadata": {
    "colab": {},
    "colab_type": "code",
    "id": "YBxaSHuAVp-l"
   },
   "outputs": [],
   "source": [
    "data[data.runtime == data.runtime.min()].original_title\n",
    "\n",
    "\n",
    "answers['3'] = '3 Winnie the Pooh (tt1449283)'"
   ]
  },
  {
   "cell_type": "markdown",
   "metadata": {
    "colab_type": "text",
    "id": "TfQbxbfNVp-p"
   },
   "source": [
    "# 4. Какова средняя длительность фильмов?\n"
   ]
  },
  {
   "cell_type": "code",
   "execution_count": 421,
   "metadata": {
    "colab": {},
    "colab_type": "code",
    "id": "5K6dKZYVVp-q"
   },
   "outputs": [],
   "source": [
    "data.runtime.mean()\n",
    "answers['4'] = '2. 110'"
   ]
  },
  {
   "cell_type": "markdown",
   "metadata": {
    "colab_type": "text",
    "id": "r5TvbnT_Vp-u"
   },
   "source": [
    "# 5. Каково медианное значение длительности фильмов? "
   ]
  },
  {
   "cell_type": "code",
   "execution_count": 422,
   "metadata": {
    "colab": {},
    "colab_type": "code",
    "id": "iBROplKnVp-v"
   },
   "outputs": [],
   "source": [
    "data.runtime.median()\n",
    "answers['5'] = '1. 107'"
   ]
  },
  {
   "cell_type": "markdown",
   "metadata": {
    "colab_type": "text",
    "id": "39P-deDSVp-y"
   },
   "source": [
    "# 6. Какой самый прибыльный фильм?\n",
    "#### Внимание! Здесь и далее под «прибылью» или «убытками» понимается разность между сборами и бюджетом фильма. (прибыль = сборы - бюджет) в нашем датасете это будет (profit = revenue - budget) "
   ]
  },
  {
   "cell_type": "code",
   "execution_count": 423,
   "metadata": {
    "colab": {},
    "colab_type": "code",
    "id": "UYZh4T9WVp-y"
   },
   "outputs": [],
   "source": [
    "# лучше код получения столбца profit вынести в Предобработку что в начале\n",
    "data[data.profit == data.profit.max()].original_title\n",
    "\n",
    "answers['6'] = '5. Avatar'"
   ]
  },
  {
   "cell_type": "markdown",
   "metadata": {
    "colab_type": "text",
    "id": "M99JmIX4Vp-2"
   },
   "source": [
    "# 7. Какой фильм самый убыточный? "
   ]
  },
  {
   "cell_type": "code",
   "execution_count": 424,
   "metadata": {
    "colab": {},
    "colab_type": "code",
    "id": "w-D2m4XPVp-3"
   },
   "outputs": [],
   "source": [
    "data[data.profit == data.profit.min()].original_title\n",
    "answers['7'] = '5. The Lone Ranger'"
   ]
  },
  {
   "cell_type": "markdown",
   "metadata": {
    "colab_type": "text",
    "id": "wEOM5ERVVp-6"
   },
   "source": [
    "# 8. У скольких фильмов из датасета объем сборов оказался выше бюджета?"
   ]
  },
  {
   "cell_type": "code",
   "execution_count": 425,
   "metadata": {
    "colab": {},
    "colab_type": "code",
    "id": "y00_7HD6Vp-7"
   },
   "outputs": [],
   "source": [
    "data[data.profit > 0]['original_title'].count()\n",
    "answers['8'] = '1. 1478'"
   ]
  },
  {
   "cell_type": "markdown",
   "metadata": {
    "colab_type": "text",
    "id": "xhpspA9KVp_A"
   },
   "source": [
    "# 9. Какой фильм оказался самым кассовым в 2008 году?"
   ]
  },
  {
   "cell_type": "code",
   "execution_count": 426,
   "metadata": {
    "colab": {},
    "colab_type": "code",
    "id": "MoUyQr9RVp_B"
   },
   "outputs": [],
   "source": [
    "data_2008 = data[data.release_year == 2008]      # датафрейм с фильмаими 2008 года\n",
    "data_2008[data_2008.revenue == data_2008.revenue.max()]['original_title']\n",
    "answers['9']= '4. The Dark Knight'"
   ]
  },
  {
   "cell_type": "markdown",
   "metadata": {
    "colab_type": "text",
    "id": "Zi4hDKidVp_F"
   },
   "source": [
    "# 10. Самый убыточный фильм за период с 2012 по 2014 г. (включительно)?\n"
   ]
  },
  {
   "cell_type": "code",
   "execution_count": 427,
   "metadata": {
    "colab": {},
    "colab_type": "code",
    "id": "XqyRmufJVp_F"
   },
   "outputs": [],
   "source": [
    "data_1214 = data.query('2012 <= release_year <= 2014')                    # фильмы в диапазоне 2012-2014\n",
    "data_1214[data_1214.profit == data_1214.profit.min()]['original_title']   # поиск самого убыточного из них\n",
    "answers['10'] = '5. The Lone Ranger'"
   ]
  },
  {
   "cell_type": "markdown",
   "metadata": {
    "colab_type": "text",
    "id": "EA7Sa9dkVp_I"
   },
   "source": [
    "# 11. Какого жанра фильмов больше всего?"
   ]
  },
  {
   "cell_type": "code",
   "execution_count": 428,
   "metadata": {
    "colab": {},
    "colab_type": "code",
    "id": "zsJAwJ8QVp_J"
   },
   "outputs": [],
   "source": [
    "# эту задачу тоже можно решать разными подходами, попробуй реализовать разные варианты\n",
    "# если будешь добавлять функцию - выноси ее в предобработку что в начале\n",
    "\n",
    "data['genrelist'] = stringtolist(data['genres'])   #создание списка жанров на основе строки жанров\n",
    "genrelist = data['genrelist'].sum()                #суммируем упоминания каждого жанра\n",
    "Counter(genrelist)                                 #подсчитываем количества упоминаний\n",
    "\n",
    "answers['11'] = '3. Drama'\n",
    "    "
   ]
  },
  {
   "cell_type": "markdown",
   "metadata": {
    "colab_type": "text",
    "id": "Ax6g2C8SVp_M"
   },
   "source": [
    "ВАРИАНТ 2"
   ]
  },
  {
   "cell_type": "code",
   "execution_count": 0,
   "metadata": {
    "colab": {},
    "colab_type": "code",
    "id": "otO3SbrSVp_N"
   },
   "outputs": [],
   "source": []
  },
  {
   "cell_type": "markdown",
   "metadata": {
    "colab_type": "text",
    "id": "T9_bPWpkVp_Q"
   },
   "source": [
    "# 12. Фильмы какого жанра чаще всего становятся прибыльными? "
   ]
  },
  {
   "cell_type": "code",
   "execution_count": 431,
   "metadata": {
    "colab": {},
    "colab_type": "code",
    "id": "Tmt8MaK1Vp_R"
   },
   "outputs": [],
   "source": [
    "profit_movies = data[data.profit > 0 ]       # датафрейм с положительной прибылью\n",
    "genrelist = profit_movies['genrelist'].sum()  # список жанров прибыльных фильмов\n",
    "Counter(genrelist)                             # счёт самого прибыльного жанра\n",
    "answers['12'] = '1. Drama'"
   ]
  },
  {
   "cell_type": "markdown",
   "metadata": {
    "colab_type": "text",
    "id": "0F23bgsDVp_U"
   },
   "source": [
    "# 13. У какого режиссера самые большие суммарные кассовые сборы?"
   ]
  },
  {
   "cell_type": "code",
   "execution_count": 432,
   "metadata": {
    "colab": {},
    "colab_type": "code",
    "id": "K6Z3J8ygVp_X"
   },
   "outputs": [],
   "source": [
    "data.groupby(['director'])['revenue'].sum().sort_values(ascending=False)\n",
    "answers['13'] = '5. Peter Jackson'"
   ]
  },
  {
   "cell_type": "markdown",
   "metadata": {
    "colab_type": "text",
    "id": "PsYC9FgRVp_a"
   },
   "source": [
    "# 14. Какой режисер снял больше всего фильмов в стиле Action?"
   ]
  },
  {
   "cell_type": "code",
   "execution_count": 434,
   "metadata": {
    "colab": {},
    "colab_type": "code",
    "id": "wd2M-wHeVp_b"
   },
   "outputs": [],
   "source": [
    "action_movies = data[data.genres.str.contains('Action', na=False)] # датафрейм экшн-фильмов\n",
    "action_movies.director = stringtolist(action_movies.director)      # строку режиссёров делаем списком\n",
    "action_movies = action_movies.explode('director')                  # разделяем список на отдельные строки\n",
    "action_movies.director.value_counts()                              # подсчитываем количество фильмов\n",
    "\n",
    "answers['14'] = '3. Robert Rodriguez'"
   ]
  },
  {
   "cell_type": "markdown",
   "metadata": {
    "colab_type": "text",
    "id": "PQ0KciD7Vp_f"
   },
   "source": [
    "# 15. Фильмы с каким актером принесли самые высокие кассовые сборы в 2012 году? "
   ]
  },
  {
   "cell_type": "code",
   "execution_count": 435,
   "metadata": {
    "colab": {},
    "colab_type": "code",
    "id": "aga62oeKVp_g"
   },
   "outputs": [],
   "source": [
    "data['actors'] = stringtolist(data.cast)                                    # строку актеров в список\n",
    "movies_2012 = data.query('release_year == 2012')                            # датафрейм фильмов 2012года\n",
    "movies_2012 =  movies_2012.explode('actors')                                # разделяем список актеров\n",
    "movies_2012.groupby('actors')['revenue'].sum().sort_values(ascending=False) # сортируем актеров по прибыли\n",
    "\n",
    "answers['15'] = '3. Chris Hemsworth'"
   ]
  },
  {
   "cell_type": "markdown",
   "metadata": {
    "colab_type": "text",
    "id": "mWHyyL7QVp_j"
   },
   "source": [
    "# 16. Какой актер снялся в большем количестве высокобюджетных фильмов?"
   ]
  },
  {
   "cell_type": "code",
   "execution_count": 436,
   "metadata": {
    "colab": {},
    "colab_type": "code",
    "id": "qQtmHKTFVp_k"
   },
   "outputs": [],
   "source": [
    "high_budget = data[data.budget > data.budget.mean()] # выбираем фильмы с бюджетом выше среднего\n",
    "high_budget = high_budget.explode('actors')          # разделяем строки актеров на список\n",
    "high_budget.actors.value_counts(ascending=False)     # подсчитываем количество прибыльных фильмов на актера\n",
    "\n",
    "answers['16']='3. Matt Damon'"
   ]
  },
  {
   "cell_type": "markdown",
   "metadata": {
    "colab_type": "text",
    "id": "NIh6AaW5Vp_n"
   },
   "source": [
    "# 17. В фильмах какого жанра больше всего снимался Nicolas Cage? "
   ]
  },
  {
   "cell_type": "code",
   "execution_count": 438,
   "metadata": {
    "colab": {},
    "colab_type": "code",
    "id": "H74SJDIBVp_n"
   },
   "outputs": [],
   "source": [
    "nc_data = data.explode('actors')                   # разделяем строки актеров на список\n",
    "nc_data = nc_data[nc_data.actors == 'Nicolas Cage'] # оставляем строки с Николаем\n",
    "nc_data = nc_data.explode('genrelist')              # разделяем фильмы с ним по жанрам\n",
    "nc_data.genrelist.value_counts(ascending=False)     # подсчитываем кол-во фильмов каждого жанра\n",
    "\n",
    "answers['17'] = '2. Action'"
   ]
  },
  {
   "cell_type": "markdown",
   "metadata": {
    "colab_type": "text",
    "id": "RqOmPRfWVp_q"
   },
   "source": [
    "# 18. Самый убыточный фильм от Paramount Pictures"
   ]
  },
  {
   "cell_type": "code",
   "execution_count": 439,
   "metadata": {
    "colab": {},
    "colab_type": "code",
    "id": "9E_B0Y96Vp_r"
   },
   "outputs": [],
   "source": [
    "companies_data=data\n",
    "companies_data['companies'] = stringtolist(companies_data.production_companies) # создаём список компаний\n",
    "companies_data = data.explode('companies')                                      # разделяем список компаний\n",
    "companies_data = companies_data[companies_data.companies == 'Paramount Pictures']\n",
    "companies_data[companies_data['profit'] == companies_data.profit.min()]['original_title']\n",
    "\n",
    "answers['18']='1. K-19: The Widowmaker'\n",
    "\n",
    "\n"
   ]
  },
  {
   "cell_type": "markdown",
   "metadata": {
    "colab_type": "text",
    "id": "vS8Ur6ddVp_u"
   },
   "source": [
    "# 19. Какой год стал самым успешным по суммарным кассовым сборам?"
   ]
  },
  {
   "cell_type": "code",
   "execution_count": 440,
   "metadata": {
    "colab": {},
    "colab_type": "code",
    "id": "Dnbt4GdIVp_v"
   },
   "outputs": [],
   "source": [
    "data.groupby('release_year')['revenue'].sum().sort_values(ascending=False)\n",
    "\n",
    "answers['19'] = '5. 2015'"
   ]
  },
  {
   "cell_type": "markdown",
   "metadata": {
    "colab_type": "text",
    "id": "JAzJh4QAVp_z"
   },
   "source": [
    "# 20. Какой самый прибыльный год для студии Warner Bros?"
   ]
  },
  {
   "cell_type": "code",
   "execution_count": 441,
   "metadata": {
    "colab": {},
    "colab_type": "code",
    "id": "wgVu02DEVp_0"
   },
   "outputs": [],
   "source": [
    "wb_company = data\n",
    "wb_company['companies'] = stringtolist(wb_company.production_companies)\n",
    "wb_company = wb_company.explode('companies')\n",
    "wb_company = wb_company[wb_company.companies.str.contains('Warner Bros', na=False)]\n",
    "wb_company.groupby('release_year')['profit'].sum().sort_values(ascending=False)\n",
    "\n",
    "answers['20']=['1. 2014']"
   ]
  },
  {
   "cell_type": "markdown",
   "metadata": {
    "colab_type": "text",
    "id": "8Im1S2HRVp_4"
   },
   "source": [
    "# 21. В каком месяце за все годы суммарно вышло больше всего фильмов?"
   ]
  },
  {
   "cell_type": "code",
   "execution_count": 442,
   "metadata": {
    "colab": {},
    "colab_type": "code",
    "id": "lev6TH7gVp_4"
   },
   "outputs": [],
   "source": [
    "data.release_date.dt.month.value_counts()\n",
    "\n",
    "answers['21'] = '1. 2014'"
   ]
  },
  {
   "cell_type": "markdown",
   "metadata": {
    "colab_type": "text",
    "id": "uAJsZ_NeVp_7"
   },
   "source": [
    "# 22. Сколько суммарно вышло фильмов летом? (за июнь, июль, август)"
   ]
  },
  {
   "cell_type": "code",
   "execution_count": 443,
   "metadata": {
    "colab": {},
    "colab_type": "code",
    "id": "Aa-hEREoVp_8"
   },
   "outputs": [],
   "source": [
    "data['release_month'] = data.release_date.dt.month\n",
    "data.query('release_month in [6, 7, 8]')['original_title'].count()\n",
    "\n",
    "answers['22'] = '2. 450'"
   ]
  },
  {
   "cell_type": "markdown",
   "metadata": {
    "colab_type": "text",
    "id": "G94ppOY1VqAA"
   },
   "source": [
    "# 23. Для какого режиссера зима – самое продуктивное время года? "
   ]
  },
  {
   "cell_type": "code",
   "execution_count": 444,
   "metadata": {
    "colab": {},
    "colab_type": "code",
    "id": "RhNTsamuVqAB"
   },
   "outputs": [],
   "source": [
    "data['director'] = stringtolist(data.director)\n",
    "data = data.explode('director')\n",
    "winter_df = data.query('release_month in [\"12\", \"1\", \"2\"]')\n",
    "winter_df.groupby('director')['original_title'].count().sort_values(ascending=False)\n",
    "\n",
    "answers['23'] = '5. Peter Jackson'"
   ]
  },
  {
   "cell_type": "code",
   "execution_count": null,
   "metadata": {},
   "outputs": [],
   "source": []
  },
  {
   "cell_type": "markdown",
   "metadata": {
    "colab_type": "text",
    "id": "RBo0JVjVVqAF"
   },
   "source": [
    "# 24. Какая студия дает самые длинные названия своим фильмам по количеству символов?"
   ]
  },
  {
   "cell_type": "code",
   "execution_count": 445,
   "metadata": {
    "colab": {},
    "colab_type": "code",
    "id": "QRGS8L0iVqAG"
   },
   "outputs": [],
   "source": [
    "name_length = data\n",
    "name_length['length'] = name_length.original_title.apply(lambda x: len(x))\n",
    "name_length['companies'] = stringtolist(name_length.production_companies)\n",
    "name_length = name_length.explode('companies')\n",
    "name_length.groupby('companies')['length'].mean().sort_values(ascending=False)\n",
    "\n",
    "answers['24'] = '5. Four By Two Productions'"
   ]
  },
  {
   "cell_type": "markdown",
   "metadata": {
    "colab_type": "text",
    "id": "9G0hbvR7VqAK"
   },
   "source": [
    "# 25. Описание фильмов какой студии в среднем самые длинные по количеству слов?"
   ]
  },
  {
   "cell_type": "code",
   "execution_count": 446,
   "metadata": {
    "colab": {},
    "colab_type": "code",
    "id": "Ge2GsLNxVqAK"
   },
   "outputs": [],
   "source": [
    "describe_df = data\n",
    "describe_df['word_count'] = describe_df.overview.apply(lambda x: (x.count(' ')+1)) \n",
    "describe_df['companies'] = stringtolist(describe_df.production_companies)\n",
    "describe_df = describe_df.explode('companies')\n",
    "describe_df.groupby('companies')['word_count'].mean().sort_values(ascending=False)\n",
    "\n",
    "answers['25'] = '3. Midnight Picture Show'"
   ]
  },
  {
   "cell_type": "markdown",
   "metadata": {
    "colab_type": "text",
    "id": "FJ1AFt90VqAP"
   },
   "source": [
    "# 26. Какие фильмы входят в 1 процент лучших по рейтингу? \n",
    "по vote_average"
   ]
  },
  {
   "cell_type": "code",
   "execution_count": 447,
   "metadata": {
    "colab": {},
    "colab_type": "code",
    "id": "8qmJVq4CVqAQ"
   },
   "outputs": [],
   "source": [
    "data[data.vote_average >= 0.97*(data.vote_average.max())].head(20)\n",
    "\n",
    "answers['26'] = '1. Inside Out, The Dark Knight, 12 Years a Slave'"
   ]
  },
  {
   "cell_type": "markdown",
   "metadata": {
    "colab_type": "text",
    "id": "MdXsUXbCVqAV"
   },
   "source": [
    "# 27. Какие актеры чаще всего снимаются в одном фильме вместе?\n"
   ]
  },
  {
   "cell_type": "markdown",
   "metadata": {
    "colab_type": "text",
    "id": "4ymnxEVoVqAW"
   },
   "source": []
  },
  {
   "cell_type": "code",
   "execution_count": 448,
   "metadata": {},
   "outputs": [],
   "source": [
    "import itertools as itt\n",
    "data['actors'] = stringtolist(data.cast)  # создаём список актёров                                \n",
    "data['cast_cortege']=data.actors.apply(lambda x: list(combinations(x, 2))) # создаём кортеж комбинаций пар\n",
    "list1 = data.cast_cortege.tolist() # приводим кортеж к спискам и присваиваем list1\n",
    "list2 = list(itt.chain(*list1)) # создаём единый список комбинаций\n",
    "pairs = Counter(list2) # подсчитываем количество использований комбинаций\n",
    "pairs.most_common() # находим самые часто используемые комбинации\n",
    "\n",
    "answers['27'] = '5. Daniel Radcliffe & Rupert Grint'"
   ]
  },
  {
   "cell_type": "markdown",
   "metadata": {
    "colab_type": "text",
    "id": "U0nONFnGVqAX"
   },
   "source": [
    "# Submission"
   ]
  },
  {
   "cell_type": "code",
   "execution_count": 449,
   "metadata": {
    "colab": {},
    "colab_type": "code",
    "id": "IfcaRO9-VqAX",
    "outputId": "0f132912-32bb-4196-c98c-abfbc4ad5a5f"
   },
   "outputs": [
    {
     "data": {
      "text/plain": [
       "{'1': '5. Pirates of the Caribbean: On Stranger Tides (tt1298650)',\n",
       " '2': '2. Gods and Generals (tt0279111)',\n",
       " '3': '3 Winnie the Pooh (tt1449283)',\n",
       " '4': '2. 110',\n",
       " '5': '1. 107',\n",
       " '6': '5. Avatar',\n",
       " '7': '5. The Lone Ranger',\n",
       " '8': '1. 1478',\n",
       " '9': '4. The Dark Knight',\n",
       " '10': '5. The Lone Ranger',\n",
       " '11': '3. Drama',\n",
       " '12': '1. Drama',\n",
       " '13': '5. Peter Jackson',\n",
       " '14': '3. Robert Rodriguez',\n",
       " '15': '3. Chris Hemsworth',\n",
       " '16': '3. Matt Damon',\n",
       " '17': '2. Action',\n",
       " '18': '1. K-19: The Widowmaker',\n",
       " '19': '5. 2015',\n",
       " '20': ['1. 2014'],\n",
       " '21': '1. 2014',\n",
       " '22': '2. 450',\n",
       " '23': '5. Peter Jackson',\n",
       " '24': '5. Four By Two Productions',\n",
       " '25': '3. Midnight Picture Show',\n",
       " '26': '1. Inside Out, The Dark Knight, 12 Years a Slave',\n",
       " '27': '5. Daniel Radcliffe & Rupert Grint'}"
      ]
     },
     "execution_count": 449,
     "metadata": {},
     "output_type": "execute_result"
    }
   ],
   "source": [
    "# в конце можно посмотреть свои ответы к каждому вопросу\n",
    "answers"
   ]
  },
  {
   "cell_type": "code",
   "execution_count": 451,
   "metadata": {
    "colab": {},
    "colab_type": "code",
    "id": "SiRmHPl8VqAd"
   },
   "outputs": [
    {
     "data": {
      "text/plain": [
       "27"
      ]
     },
     "execution_count": 451,
     "metadata": {},
     "output_type": "execute_result"
    }
   ],
   "source": [
    "# и убедиться что ни чего не пропустил)\n",
    "len(answers)"
   ]
  },
  {
   "cell_type": "code",
   "execution_count": 0,
   "metadata": {
    "colab": {},
    "colab_type": "code",
    "id": "uCfuTkRbVqAg"
   },
   "outputs": [],
   "source": []
  },
  {
   "cell_type": "code",
   "execution_count": 0,
   "metadata": {
    "colab": {},
    "colab_type": "code",
    "id": "Vwx3NrkSVqAl"
   },
   "outputs": [],
   "source": []
  }
 ],
 "metadata": {
  "colab": {
   "name": "Copy of [SF-DST] Movies IMBD v4.1 TEMPLATE.ipynb",
   "provenance": []
  },
  "kernelspec": {
   "display_name": "Python 3",
   "language": "python",
   "name": "python3"
  },
  "language_info": {
   "codemirror_mode": {
    "name": "ipython",
    "version": 3
   },
   "file_extension": ".py",
   "mimetype": "text/x-python",
   "name": "python",
   "nbconvert_exporter": "python",
   "pygments_lexer": "ipython3",
   "version": "3.8.5"
  }
 },
 "nbformat": 4,
 "nbformat_minor": 1
}
